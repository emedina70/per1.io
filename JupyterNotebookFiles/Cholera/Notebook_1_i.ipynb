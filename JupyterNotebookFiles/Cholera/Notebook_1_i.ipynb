{
  "metadata": {
    "kernelspec": {
      "name": "python",
      "display_name": "Python (Pyodide)",
      "language": "python"
    },
    "language_info": {
      "codemirror_mode": {
        "name": "ipython",
        "version": 3
      },
      "file_extension": ".py",
      "mimetype": "text/x-python",
      "name": "python",
      "nbconvert_exporter": "python",
      "pygments_lexer": "ipython3",
      "version": "3.9.12"
    }
  },
  "nbformat_minor": 5,
  "nbformat": 4,
  "cells": [
    {
      "cell_type": "markdown",
      "source": "\n# Notebook 1: Seeing the Problem as Data\n\n\n## 1.1: What is Data?\n\nLike the word **\"information\"**, **\"data\"** is such a general word that it refers to lots of things.\n\nIn this workshop, we’ll focus on data as something **collected** or **recorded** about the **real world**, to better observe and understand it. \n\n\n### Data in the real world\nData can be found all around our daily lives. Data about weather is collected by weather stations and used by meteorologists to determine weather outcomes. Data about your Netflix viewing history can be used by Netflix's algorithms to recommend new movies and shows that better match your interests. \n\n<br>\n\n<table><tr>\n    <td> <img src=\"imgs/netflix-image.jpeg\" alt=\"Drawing\" style=\"width: 400px;\"/> </td>\n    <td> <img src=\"imgs/weather-image.jpeg\" alt=\"Drawing\" style=\"width: 400px;\"/> </td>\n</tr></table>\n\n<br>\n\n<img src=\"imgs/pencil.png\" alt=\"Drawing\" align=left style=\"width: 20px;\"/> <font size=4> **Journal 1a:** Data in YOUR world </font>\n\n**Give an example of data in your daily life, e.g. data that you collect or that’s collected about you. Explain where it comes from, how it's collected/recorded, and for what it's used.** \n\n> <span style=\"color:red\"> pretty much any answer will do. </span>\n",
      "metadata": {},
      "id": "a06e7973"
    },
    {
      "cell_type": "markdown",
      "source": "### Data from the 1854 London cholera outbreak\n\nCholera is a disease that we now know how to treat... but before this treatment was discovered at a time of your great-great- grandparents, only 1 in 2 infected people had a chance to survive. At that time, in mid-19th century London, doctors, health inspectors, pastors and many others desperately tried to find the cause of cholera to stop people from dying. One of them was **John Snow**, a physician who started recording the following information about London households:\n\n![](imgs/img-ledger.png)\n\n<!-- As you can see, there are data about the following (in order):\n- House number\n- Neighborhood\n- Occupation\n- Age\n- Symptoms\n- Water Supplier -->\n\n<img src=\"imgs/pencil.png\" alt=\"Drawing\" align=left style=\"width: 20px;\"/> <font size=4>**Journal 1b:** Taking inventory: what do we have?</font>\n\n**Describe the data you see in John Snow's notes (the photo). What types of data are present? Are there other types of data you would want to collect if you were trying to find out how cholera is transmitted?** \n\n> <span style=\"color:red\"> just any commentary about the described data (and alternative data) is great here. </span>\n\n-------------------\n\n**Now we will embark on our own journey to trace the origins of the Cholera epidemic, but instead by using a 21st century data science toolkit!**\n<br><br>\nIn the next cell, please add your information to get started! \n<br><br>",
      "metadata": {},
      "id": "c19a8767"
    },
    {
      "cell_type": "code",
      "source": "# Change the ??? to be your name! \nfirst_name = \"CHUCK\"\nlast_name = \"NORRIS\"\n\n# print is the simplest Python function -- it allows us to view our data! \nprint(f\">>> Hello world, my name is {first_name} {last_name}!\")",
      "metadata": {},
      "execution_count": null,
      "outputs": [],
      "id": "c45b5fbc"
    },
    {
      "cell_type": "markdown",
      "source": "## 1.2: Representing Data on the Computer\n\nIn this **Jupyter notebook**, we will begin our data science journey via the **Python programming language**. \n\n<img src=\"imgs/python-image.png\" alt=\"Drawing\" style=\"width: 400px;\"/>\n\n\n**By the end of this notebook, you should be able to**: \n- Represent data from the real world in Python\n- See how data are stored, grouped, and organized for data science\n- Understand variables and lists\n<br><br>",
      "metadata": {},
      "id": "743538b9"
    },
    {
      "cell_type": "markdown",
      "source": "![](imgs/img-ledger.png)",
      "metadata": {},
      "id": "4b404f06-34c7-4fa3-a9cf-415e05dd4da0"
    },
    {
      "cell_type": "markdown",
      "source": "**Data representation in Python**\nThe following contains some of the data from above represented in Python code. Don't worry about all of the confusing **syntax** like the `{}` and `:`, just try to see how the code maps to John Snow's notes shown above. ",
      "metadata": {},
      "id": "2f93ccd2-bc22-4391-86c0-470c8ba6c60f"
    },
    {
      "cell_type": "code",
      "source": "\nperson_0 = {\"house_number\": 7, \n            \"neighborhood\": \"Layton's Buildings\",\n            \"date\": \"July 29\", \n            \"occupation\": \"tailor\",\n            \"age\": 20, \n            \"symptoms\": \"cholera 17 hours\",\n            \"water_supplier\": \"Southwark & Vauxhall\"}\n\nperson_1 = {\"house_number\": 2, \n            \"neighborhood\": \"Dobb's Cross\",\n            \"date\": \"July 30\", \n            \"occupation\": \"son of a shop-keeper\",\n            \"age\": 10, \n            \"symptoms\": \"cholera Asiatic 24 hours\",\n            \"water_supplier\": \"Southwark & Vauxhall\"}\n\nperson_2 = {\"house_number\": 81, \n            \"neighborhood\": \"Ann Street\",\n            \"date\": \"July 29\", \n            \"occupation\": \"son of a labourer\",\n            \"age\": 12, \n            \"symptoms\": \"cholera 8 hours\",\n            \"water_supplier\": \"Southwark & Vauxhall\"}\n\nperson_3 = {\"house_number\": 28, \n            \"neighborhood\": \"Wickham Pl.\",\n            \"date\": \"August 02\", \n            \"occupation\": \"son of a brush-mkr\",\n            \"age\": 2.5, \n            \"symptoms\": \"choleraic diarrhea 24 hours\",\n            \"water_supplier\": \"Southwark & Vauxhall\"}\n",
      "metadata": {},
      "execution_count": null,
      "outputs": [],
      "id": "246e95fa"
    },
    {
      "cell_type": "markdown",
      "source": "### **Task:** Add \"person_3\" from John Snow's data to the above cell and run the cell.</font>\n\n**Is there anything unusual about how 'counting' is done in computer science?** \n\n> <span style=\"color:red\"> We start counting at 0!\" </span>\n\n",
      "metadata": {
        "tags": []
      },
      "id": "6ab98134"
    },
    {
      "cell_type": "markdown",
      "source": "**We can 'group' all of these data together by using a `list`!**",
      "metadata": {},
      "id": "da8f7f25-714d-45e6-a6b1-c80c6594c986"
    },
    {
      "cell_type": "code",
      "source": "people_list = [person_0, person_1, person_2, person_3]\nprint(f\"Our list of people: {people_list}\")",
      "metadata": {},
      "execution_count": null,
      "outputs": [],
      "id": "568a65af-4029-4674-a303-36142acf21af"
    },
    {
      "cell_type": "markdown",
      "source": "## 1.3: Let's *slow down* and smell the... data types?\n\nSo now we beg the question... ***what was actually going on in the previous code?***\n\nIn this section, we are going to see if we can understand the basic units of Python data storage: \n- types\n- variables\n- lists\n- lists of lists\n\n\n--------------\nThere are several **data types** in Python that can be used to represent data values. I outline a handful of types in the following:\n\n\n| Type | Description | Examples |\n| :-- | :-- | :-- |\n| String ('str') | A sequence of characters; stored within \"\" | \"cat\", \"London\", \"27\" |\n| Integer ('int')| Whole positive or negative numbers *without* decimal points | -50, 0, 27 |\n| Float ('float') | Real numbers that *can* have multiple decimal points | -50.0, 0.75, 3.14159 |\n| List ('list') | A sequence of any Python data type; stored within \\[ \\] | \\[\"a\", \"b\", \"c\"\\] |\n\n<br><br>\nWe can see the type of data in Python by using the `type()` function as shown in the following cell: ",
      "metadata": {
        "tags": []
      },
      "id": "1225e05d"
    },
    {
      "cell_type": "code",
      "source": "print(type(37))",
      "metadata": {},
      "execution_count": null,
      "outputs": [],
      "id": "aebfcf2d-c55b-45db-aeb9-535432b028af"
    },
    {
      "cell_type": "markdown",
      "source": "### **Task:** Learning about types!</font>\n\n**In the following cell, write some example lines that answer the following questions:**\n\nc1. **What is the data type of \"London\"**?\n> <span style=\"color:red\"> STRING </span>\n\nc2. **Is 37.0 an integer or float?**\n> <span style=\"color:red\"> FLOAT </span>\n\nc3. **What happens if we turn \"London\" into London (no quotes) and try to run the cell?**\n> <span style=\"color:red\"> IT SHOULD CRASH, saying \"London\" is not defined (because it is now a variable). </span>",
      "metadata": {
        "tags": []
      },
      "id": "3cc55318"
    },
    {
      "cell_type": "code",
      "source": "# Example for c1 here!\nprint(type(\"London\"))\n\n# Example for c2 here!\nprint(type(37.0))\n\n# Example for c3 here!\nprint(type(London))",
      "metadata": {},
      "execution_count": null,
      "outputs": [],
      "id": "4ff398eb"
    },
    {
      "cell_type": "markdown",
      "source": "### Variables\nA **variable** is a Python storage container for a **single type** of data. For instance, in algebra class, you might be familiar with math equations like the following:  \n\n$2x=50$\n\n... where **$x$** is a **variable** that represents some value ***(which is???)***. \n\nIn Python, we can set variables to be almost anything that we want, not just numbers. Earlier in this notebook, for instance, we used two string variables to represent your first and last names using two string variables: \n```\nfirst_name = \"John\"\nlast_name = \"Snow\"\n```",
      "metadata": {},
      "id": "466fcfe9"
    },
    {
      "cell_type": "markdown",
      "source": "### Task: Create variables (of appropriate types!) that suit the following prompts. Print their values at the end of the cell!\n",
      "metadata": {
        "tags": []
      },
      "id": "c9a9dbb9-2566-481d-8b99-e4a910384a14"
    },
    {
      "cell_type": "code",
      "source": "# Your ZIP code. \nzipcode = 60637 #int. \n\n# Your dream college.\ncollege = \"Oxford\" #str\n\n# A list of your top 5 favorite musical artists.\nmy_artists = [\"prince\", \"ac/dc\", \"queen\", \"eminem\", \"shakira\"]  #[str]\n\n# ... Now use the print() command on all 3 variables to see their values! \nprint(zipcode)\nprint(college)\nprint(my_artists)\n",
      "metadata": {},
      "execution_count": null,
      "outputs": [],
      "id": "739a9c7d-af6e-4195-b19d-d38c5ed9e873"
    },
    {
      "cell_type": "markdown",
      "source": "<img src=\"imgs/pencil.png\" alt=\"Drawing\" align=left style=\"width: 20px;\"/>  <font size=\"4\">**Journal 1e:** Variables</font>\n\n**Why did you choose the 'type' you did for each variable?**\n\n> <span style=\"color:red\"> ZIP codes are naturally integers.</span>\n\n> <span style=\"color:red\"> Words are best represented as strings. </span>\n  \n\n> <span style=\"color:red\"> List of strings because artists are words and there are multiple.</span>",
      "metadata": {},
      "id": "c28cd35b"
    },
    {
      "cell_type": "markdown",
      "source": "## 1.4: Expanding our Data Science Toolbox with 'lists of lists'. \n\nAs mentioned before, a **list** in Python is a sequence of other Python types, such as `[1, 2, 3, 4, 5]` or `['a', 'b', 'c']`. Interestingly, you can also create a **list of lists** in Python to create **tabular** data, or data in row-column format. \n\nWe can very easily rewrite our data into a 'list of lists' format. See as follows...\n",
      "metadata": {},
      "id": "bb7322e4"
    },
    {
      "cell_type": "code",
      "source": "\nheaders = [\"house_number\", \"neighborhood\", \"date\", \"occupation\", \"age\", \"symptoms\", \"water_supplier\"]\n\nperson_list_0 = [7, \"Layton's Buildings\", \"July 29\", \"tailor\", \n                  20, \"cholera 17 hours\", \"Southwark & Vauxhall\"]\n\nperson_list_1 = [2, \"Dobb's Cross\", \"July 30\", \"son of a shop-keeper\", \n                 10, \"cholera Asiatic 24 hours\", \"Southwark & Vauxhall\"]\n\nperson_list_2 = [81, \"Ann Street\", \"July 29\", \"son of a labourer\",\n                 12, \"cholera 8 hours\", \"Southwark & Vauxhall\"]\n\nperson_list_3 = [28, \"Wickham Pl.\", \"August 02\", \"son of a brush-mkr\", 2.5, \"choleraic diarrhea 24 hours\",\n                 \"Southwark & Vauxhall\"]\n\nperson_2d_list = [person_list_0, person_list_1, person_list_2]\nprint(f\"This is our list of lists: {person_2d_list}\")",
      "metadata": {},
      "execution_count": null,
      "outputs": [],
      "id": "30ac67f1"
    },
    {
      "cell_type": "markdown",
      "source": "### Task: Add `person_3` to our list-of-lists above! ",
      "metadata": {},
      "id": "f64ed8b6-0b92-4c8b-ac8b-7e6a91bdc19c"
    },
    {
      "cell_type": "markdown",
      "source": "## 1.5: Pandas\n\nIn order to store, explore, and manipulate these **tabular** data, we use **Pandas** --- one of the most well-known data science toolkits for Python. While we don't dig too deeply into Pandas now...  \n\n<img src=\"imgs/pandas.svg.png\" alt=\"Drawing\" style=\"width: 400px;\"/>\n\n**We will use lots of Pandas later in this workshop!** For now, let's load the Pandas library into Python and put our list-of-lists into a Pandas **Dataframe**. ",
      "metadata": {},
      "id": "b51399b0-a17a-4183-bc48-a5813416bff7"
    },
    {
      "cell_type": "code",
      "source": "import pandas as pd\n\ndf = pd.DataFrame.from_records(person_2d_list, columns=headers)\ndf",
      "metadata": {},
      "execution_count": null,
      "outputs": [],
      "id": "d995e13c"
    },
    {
      "cell_type": "markdown",
      "source": "<img src=\"imgs/pencil.png\" alt=\"Drawing\" align=left style=\"width: 20px;\"/> <font size=\"4\">**Journal 1f:** Reflection </font>\n\nAt the end of each notebook in Data4All, we will take time to reflect on what we learned! You can write as much or as little as you like, but please answer the following question:\n\n**What do you understand better after this notebook than before?**\n> <span style=\"color:red\"> Any wrap-up will do. </span>\n\n<br>\n\n--------------------------------\n\n<br>\n\n<img src=\"imgs/save-icon.jpeg\" alt=\"Drawing\" align=left style=\"width: 20px;\"/> <font size=\"4\">     **&ensp;&ensp;&ensp;Last step: save your work!** </font>\n",
      "metadata": {},
      "id": "a08c1c3d"
    },
    {
      "cell_type": "code",
      "source": "",
      "metadata": {},
      "execution_count": null,
      "outputs": [],
      "id": "47dbf279"
    }
  ]
}